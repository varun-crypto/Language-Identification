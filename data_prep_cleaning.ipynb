{
 "cells": [
  {
   "cell_type": "code",
   "execution_count": 1,
   "metadata": {},
   "outputs": [
    {
     "data": {
      "text/html": [
       "<div>\n",
       "<style scoped>\n",
       "    .dataframe tbody tr th:only-of-type {\n",
       "        vertical-align: middle;\n",
       "    }\n",
       "\n",
       "    .dataframe tbody tr th {\n",
       "        vertical-align: top;\n",
       "    }\n",
       "\n",
       "    .dataframe thead th {\n",
       "        text-align: right;\n",
       "    }\n",
       "</style>\n",
       "<table border=\"1\" class=\"dataframe\">\n",
       "  <thead>\n",
       "    <tr style=\"text-align: right;\">\n",
       "      <th></th>\n",
       "      <th>client_id</th>\n",
       "      <th>path</th>\n",
       "      <th>sentence</th>\n",
       "      <th>up_votes</th>\n",
       "      <th>down_votes</th>\n",
       "      <th>age</th>\n",
       "      <th>gender</th>\n",
       "      <th>accents</th>\n",
       "      <th>variant</th>\n",
       "      <th>locale</th>\n",
       "      <th>segment</th>\n",
       "    </tr>\n",
       "  </thead>\n",
       "  <tbody>\n",
       "    <tr>\n",
       "      <th>0</th>\n",
       "      <td>00cb430b113e0ac0ec056de203bfcefbd45ea814b48460...</td>\n",
       "      <td>common_voice_en_39584989.mp3</td>\n",
       "      <td>These locomotives are serviced at Washwood Heath.</td>\n",
       "      <td>2</td>\n",
       "      <td>0</td>\n",
       "      <td>NaN</td>\n",
       "      <td>NaN</td>\n",
       "      <td>NaN</td>\n",
       "      <td>NaN</td>\n",
       "      <td>en</td>\n",
       "      <td>NaN</td>\n",
       "    </tr>\n",
       "    <tr>\n",
       "      <th>1</th>\n",
       "      <td>02cc5a0c68b0ac69c83a24da884f3e7069f63b0078cddb...</td>\n",
       "      <td>common_voice_en_39576542.mp3</td>\n",
       "      <td>Here, she turned her inspirations towards writ...</td>\n",
       "      <td>3</td>\n",
       "      <td>0</td>\n",
       "      <td>NaN</td>\n",
       "      <td>NaN</td>\n",
       "      <td>England English,Esturine, from the region arou...</td>\n",
       "      <td>NaN</td>\n",
       "      <td>en</td>\n",
       "      <td>NaN</td>\n",
       "    </tr>\n",
       "    <tr>\n",
       "      <th>2</th>\n",
       "      <td>02e97f2f112f01eee1db675e7eb23850294dc865524581...</td>\n",
       "      <td>common_voice_en_39582342.mp3</td>\n",
       "      <td>There is also a garnet mine in West Redding.</td>\n",
       "      <td>2</td>\n",
       "      <td>0</td>\n",
       "      <td>NaN</td>\n",
       "      <td>NaN</td>\n",
       "      <td>NaN</td>\n",
       "      <td>NaN</td>\n",
       "      <td>en</td>\n",
       "      <td>NaN</td>\n",
       "    </tr>\n",
       "    <tr>\n",
       "      <th>3</th>\n",
       "      <td>02fa98c5a9a3e74e0014dec1e4825a9e29f7b918de2278...</td>\n",
       "      <td>common_voice_en_38497561.mp3</td>\n",
       "      <td>They hastily drive to the plane, and flee from...</td>\n",
       "      <td>2</td>\n",
       "      <td>0</td>\n",
       "      <td>NaN</td>\n",
       "      <td>NaN</td>\n",
       "      <td>canadian - toronto english,Canadian English</td>\n",
       "      <td>NaN</td>\n",
       "      <td>en</td>\n",
       "      <td>NaN</td>\n",
       "    </tr>\n",
       "    <tr>\n",
       "      <th>4</th>\n",
       "      <td>04347480ab0b18a8f9c3285107d106945cb2b14d430cdc...</td>\n",
       "      <td>common_voice_en_39263187.mp3</td>\n",
       "      <td>They found one such edge in Fairbairn's system.</td>\n",
       "      <td>2</td>\n",
       "      <td>1</td>\n",
       "      <td>NaN</td>\n",
       "      <td>NaN</td>\n",
       "      <td>NaN</td>\n",
       "      <td>NaN</td>\n",
       "      <td>en</td>\n",
       "      <td>NaN</td>\n",
       "    </tr>\n",
       "  </tbody>\n",
       "</table>\n",
       "</div>"
      ],
      "text/plain": [
       "                                           client_id  \\\n",
       "0  00cb430b113e0ac0ec056de203bfcefbd45ea814b48460...   \n",
       "1  02cc5a0c68b0ac69c83a24da884f3e7069f63b0078cddb...   \n",
       "2  02e97f2f112f01eee1db675e7eb23850294dc865524581...   \n",
       "3  02fa98c5a9a3e74e0014dec1e4825a9e29f7b918de2278...   \n",
       "4  04347480ab0b18a8f9c3285107d106945cb2b14d430cdc...   \n",
       "\n",
       "                           path  \\\n",
       "0  common_voice_en_39584989.mp3   \n",
       "1  common_voice_en_39576542.mp3   \n",
       "2  common_voice_en_39582342.mp3   \n",
       "3  common_voice_en_38497561.mp3   \n",
       "4  common_voice_en_39263187.mp3   \n",
       "\n",
       "                                            sentence  up_votes  down_votes  \\\n",
       "0  These locomotives are serviced at Washwood Heath.         2           0   \n",
       "1  Here, she turned her inspirations towards writ...         3           0   \n",
       "2       There is also a garnet mine in West Redding.         2           0   \n",
       "3  They hastily drive to the plane, and flee from...         2           0   \n",
       "4    They found one such edge in Fairbairn's system.         2           1   \n",
       "\n",
       "   age gender                                            accents  variant  \\\n",
       "0  NaN    NaN                                                NaN      NaN   \n",
       "1  NaN    NaN  England English,Esturine, from the region arou...      NaN   \n",
       "2  NaN    NaN                                                NaN      NaN   \n",
       "3  NaN    NaN        canadian - toronto english,Canadian English      NaN   \n",
       "4  NaN    NaN                                                NaN      NaN   \n",
       "\n",
       "  locale  segment  \n",
       "0     en      NaN  \n",
       "1     en      NaN  \n",
       "2     en      NaN  \n",
       "3     en      NaN  \n",
       "4     en      NaN  "
      ]
     },
     "execution_count": 1,
     "metadata": {},
     "output_type": "execute_result"
    }
   ],
   "source": [
    "import pandas as pd\n",
    "\n",
    "db1 = pd.read_csv('validated_en.tsv', sep='\\t')\n",
    "db2 = pd.read_csv('clip_durations_en.tsv', sep='\\t')\n",
    "\n",
    "db1.head()\n"
   ]
  },
  {
   "cell_type": "code",
   "execution_count": 2,
   "metadata": {},
   "outputs": [
    {
     "data": {
      "text/html": [
       "<div>\n",
       "<style scoped>\n",
       "    .dataframe tbody tr th:only-of-type {\n",
       "        vertical-align: middle;\n",
       "    }\n",
       "\n",
       "    .dataframe tbody tr th {\n",
       "        vertical-align: top;\n",
       "    }\n",
       "\n",
       "    .dataframe thead th {\n",
       "        text-align: right;\n",
       "    }\n",
       "</style>\n",
       "<table border=\"1\" class=\"dataframe\">\n",
       "  <thead>\n",
       "    <tr style=\"text-align: right;\">\n",
       "      <th></th>\n",
       "      <th>clip</th>\n",
       "      <th>duration[ms]</th>\n",
       "    </tr>\n",
       "  </thead>\n",
       "  <tbody>\n",
       "    <tr>\n",
       "      <th>0</th>\n",
       "      <td>common_voice_en_38739592.mp3</td>\n",
       "      <td>7056</td>\n",
       "    </tr>\n",
       "    <tr>\n",
       "      <th>1</th>\n",
       "      <td>common_voice_en_38964148.mp3</td>\n",
       "      <td>3492</td>\n",
       "    </tr>\n",
       "    <tr>\n",
       "      <th>2</th>\n",
       "      <td>common_voice_en_38694636.mp3</td>\n",
       "      <td>3636</td>\n",
       "    </tr>\n",
       "    <tr>\n",
       "      <th>3</th>\n",
       "      <td>common_voice_en_38627562.mp3</td>\n",
       "      <td>5256</td>\n",
       "    </tr>\n",
       "    <tr>\n",
       "      <th>4</th>\n",
       "      <td>common_voice_en_39017255.mp3</td>\n",
       "      <td>4608</td>\n",
       "    </tr>\n",
       "  </tbody>\n",
       "</table>\n",
       "</div>"
      ],
      "text/plain": [
       "                           clip  duration[ms]\n",
       "0  common_voice_en_38739592.mp3          7056\n",
       "1  common_voice_en_38964148.mp3          3492\n",
       "2  common_voice_en_38694636.mp3          3636\n",
       "3  common_voice_en_38627562.mp3          5256\n",
       "4  common_voice_en_39017255.mp3          4608"
      ]
     },
     "execution_count": 2,
     "metadata": {},
     "output_type": "execute_result"
    }
   ],
   "source": [
    "db2.head()"
   ]
  },
  {
   "cell_type": "code",
   "execution_count": 4,
   "metadata": {},
   "outputs": [
    {
     "name": "stdout",
     "output_type": "stream",
     "text": [
      "Total rows in combined_validated: 25763\n"
     ]
    }
   ],
   "source": [
    "import pandas as pd\n",
    "\n",
    "# Define validated.tsv files for all languages\n",
    "validated_files = {\n",
    "    'English': ['validated_en.tsv', 'validated_en1.tsv'],  # Two files for English\n",
    "    'French': ['validated_fr.tsv'],  # Single file for French\n",
    "    'German': ['validated_de.tsv']   # Single file for German\n",
    "}\n",
    "\n",
    "# Combine all validated files for each language\n",
    "combined_validated = pd.DataFrame()\n",
    "\n",
    "for language, file_list in validated_files.items():\n",
    "    # Load and combine files for the language\n",
    "    validated_data = pd.concat([pd.read_csv(file, sep='\\t') for file in file_list], ignore_index=True)\n",
    "    \n",
    "    # Keep only necessary columns\n",
    "    validated_data = validated_data[['path', 'sentence']]\n",
    "    validated_data['language'] = language  # Add language column\n",
    "    \n",
    "    # Append to the combined DataFrame\n",
    "    combined_validated = pd.concat([combined_validated, validated_data], ignore_index=True)\n",
    "\n",
    "# Save combined validated data (optional)\n",
    "combined_validated.to_csv('combined_validated.tsv', index=False)\n",
    "print(f\"Total rows in combined_validated: {len(combined_validated)}\")"
   ]
  },
  {
   "cell_type": "code",
   "execution_count": 6,
   "metadata": {},
   "outputs": [
    {
     "name": "stdout",
     "output_type": "stream",
     "text": [
      "Total rows in combined_durations: 2408329\n"
     ]
    }
   ],
   "source": [
    "# Define clip_durations.tsv files for all languages\n",
    "duration_files = {\n",
    "    'English': ['clip_durations_en.tsv', 'clip_durations_en1.tsv'],  # Two files for English\n",
    "    'French': ['clip_durations_fr.tsv'],  # Single file for French\n",
    "    'German': ['clip_durations_de.tsv']   # Single file for German\n",
    "}\n",
    "\n",
    "# Combine all duration files for each language\n",
    "combined_durations = pd.DataFrame()\n",
    "\n",
    "for language, file_list in duration_files.items():\n",
    "    # Load and combine files for the language\n",
    "    durations_data = pd.concat([pd.read_csv(file, sep='\\t') for file in file_list], ignore_index=True)\n",
    "    \n",
    "    # Keep only necessary columns\n",
    "    durations_data = durations_data[['clip', 'duration[ms]']]\n",
    "    \n",
    "    \n",
    "    # Append to the combined DataFrame\n",
    "    combined_durations = pd.concat([combined_durations, durations_data], ignore_index=True)\n",
    "\n",
    "# Save combined durations data (optional)\n",
    "combined_durations.to_csv('combined_durations.tsv', index=False)\n",
    "print(f\"Total rows in combined_durations: {len(combined_durations)}\")"
   ]
  },
  {
   "cell_type": "code",
   "execution_count": 7,
   "metadata": {},
   "outputs": [
    {
     "name": "stdout",
     "output_type": "stream",
     "text": [
      "Total rows in final_data: 25763\n"
     ]
    }
   ],
   "source": [
    "# Merge validated and durations data\n",
    "final_data = pd.merge(combined_validated, combined_durations, left_on='path', right_on='clip', how='inner')\n",
    "\n",
    "# Convert duration from milliseconds to seconds\n",
    "final_data['duration_seconds'] = final_data['duration[ms]'] / 1000\n",
    "\n",
    "# Save the merged dataset (optional)\n",
    "final_data.to_csv('final_merged_data.tsv', index=False)\n",
    "print(f\"Total rows in final_data: {len(final_data)}\")\n"
   ]
  },
  {
   "cell_type": "code",
   "execution_count": 8,
   "metadata": {},
   "outputs": [
    {
     "data": {
      "image/png": "[encoded data removed]",
      "text/plain": [
       "<Figure size 800x500 with 1 Axes>"
      ]
     },
     "metadata": {},
     "output_type": "display_data"
    },
    {
     "name": "stdout",
     "output_type": "stream",
     "text": [
      "Validated hours per language before balancing:\n",
      "language\n",
      "English    10.81890\n",
      "French      9.33775\n",
      "German     19.37929\n",
      "Name: duration_seconds, dtype: float64\n"
     ]
    }
   ],
   "source": [
    "import matplotlib.pyplot as plt\n",
    "\n",
    "# Calculate total validated duration before balancing (in hours)\n",
    "validated_hours_before = final_data.groupby('language')['duration_seconds'].sum() / 3600  # Convert seconds to hours\n",
    "\n",
    "# Plot total validated hours before balancing\n",
    "plt.figure(figsize=(8, 5))\n",
    "validated_hours_before.plot(kind='bar', color='blue', alpha=0.7)\n",
    "plt.xlabel('Language')\n",
    "plt.ylabel('Total Validated Duration (Hours)')\n",
    "plt.title('Validated Hours per Language Before Balancing')\n",
    "plt.xticks(rotation=0)\n",
    "plt.show()\n",
    "\n",
    "# Print summary\n",
    "print(\"Validated hours per language before balancing:\")\n",
    "print(validated_hours_before)"
   ]
  },
  {
   "cell_type": "code",
   "execution_count": 9,
   "metadata": {},
   "outputs": [
    {
     "name": "stdout",
     "output_type": "stream",
     "text": [
      "Balanced dataset saved successfully with 15386 rows!\n"
     ]
    }
   ],
   "source": [
    "# Set desired total duration per language (9 hours = 32400 seconds)\n",
    "desired_duration = 9 * 3600  # 9 hours in seconds\n",
    "\n",
    "balanced_data = pd.DataFrame()\n",
    "\n",
    "# Balance dataset for each language\n",
    "for language in final_data['language'].unique():\n",
    "    lang_data = final_data[final_data['language'] == language]\n",
    "    \n",
    "    # Calculate cumulative duration\n",
    "    lang_data = lang_data.sort_values(by='duration_seconds', ascending=False)  # Optional: Use longer clips first\n",
    "    lang_data['cumulative_duration'] = lang_data['duration_seconds'].cumsum()\n",
    "    \n",
    "    # Filter to match the desired duration\n",
    "    lang_data = lang_data[lang_data['cumulative_duration'] <= desired_duration]\n",
    "    \n",
    "    # Append to balanced dataset\n",
    "    balanced_data = pd.concat([balanced_data, lang_data], ignore_index=True)\n",
    "\n",
    "# Save balanced dataset\n",
    "balanced_data.to_csv('balanced_data.tsv', index=False)\n",
    "print(f\"Balanced dataset saved successfully with {len(balanced_data)} rows!\")"
   ]
  },
  {
   "cell_type": "code",
   "execution_count": 10,
   "metadata": {},
   "outputs": [
    {
     "name": "stdout",
     "output_type": "stream",
     "text": [
      "language\n",
      "English    8.99959\n",
      "French     8.99912\n",
      "German     8.99989\n",
      "Name: duration_seconds, dtype: float64\n",
      "language\n",
      "French     5958\n",
      "English    4870\n",
      "German     4558\n",
      "Name: count, dtype: int64\n"
     ]
    }
   ],
   "source": [
    "# Check total duration for each language\n",
    "total_duration_per_language = balanced_data.groupby('language')['duration_seconds'].sum()\n",
    "print(total_duration_per_language / 3600)  # Convert to hours\n",
    "\n",
    "# Check number of clips per language\n",
    "clip_count_per_language = balanced_data['language'].value_counts()\n",
    "print(clip_count_per_language)\n"
   ]
  },
  {
   "cell_type": "code",
   "execution_count": 11,
   "metadata": {},
   "outputs": [
    {
     "data": {
      "image/png": "[encoded data removed]",
      "text/plain": [
       "<Figure size 800x500 with 1 Axes>"
      ]
     },
     "metadata": {},
     "output_type": "display_data"
    },
    {
     "name": "stdout",
     "output_type": "stream",
     "text": [
      "Validated hours per language after balancing:\n",
      "language\n",
      "English    8.99959\n",
      "French     8.99912\n",
      "German     8.99989\n",
      "Name: duration_seconds, dtype: float64\n"
     ]
    }
   ],
   "source": [
    "# Calculate total validated duration after balancing (in hours)\n",
    "validated_hours_after = balanced_data.groupby('language')['duration_seconds'].sum() / 3600  # Convert seconds to hours\n",
    "\n",
    "# Plot total validated hours after balancing\n",
    "plt.figure(figsize=(8, 5))\n",
    "validated_hours_after.plot(kind='bar', color='green', alpha=0.7)\n",
    "plt.xlabel('Language')\n",
    "plt.ylabel('Total Validated Duration (Hours)')\n",
    "plt.title('Validated Hours per Language After Balancing')\n",
    "plt.xticks(rotation=0)\n",
    "plt.show()\n",
    "\n",
    "# Print summary\n",
    "print(\"Validated hours per language after balancing:\")\n",
    "print(validated_hours_after)"
   ]
  },
  {
   "cell_type": "code",
   "execution_count": 12,
   "metadata": {},
   "outputs": [
    {
     "name": "stdout",
     "output_type": "stream",
     "text": [
      "Updated dataset paths saved successfully!\n"
     ]
    }
   ],
   "source": [
    "# Add the 'clips/' folder to the path column\n",
    "balanced_data['path'] = \"clips/\" + balanced_data['path']\n",
    "\n",
    "# Save the updated dataset (optional)\n",
    "balanced_data.to_csv('balanced_data.tsv', index=False)\n",
    "print(\"Updated dataset paths saved successfully!\")"
   ]
  },
  {
   "cell_type": "code",
   "execution_count": 13,
   "metadata": {},
   "outputs": [
    {
     "data": {
      "text/html": [
       "<div>\n",
       "<style scoped>\n",
       "    .dataframe tbody tr th:only-of-type {\n",
       "        vertical-align: middle;\n",
       "    }\n",
       "\n",
       "    .dataframe tbody tr th {\n",
       "        vertical-align: top;\n",
       "    }\n",
       "\n",
       "    .dataframe thead th {\n",
       "        text-align: right;\n",
       "    }\n",
       "</style>\n",
       "<table border=\"1\" class=\"dataframe\">\n",
       "  <thead>\n",
       "    <tr style=\"text-align: right;\">\n",
       "      <th></th>\n",
       "      <th>path</th>\n",
       "      <th>sentence</th>\n",
       "      <th>language</th>\n",
       "      <th>clip</th>\n",
       "      <th>duration[ms]</th>\n",
       "      <th>duration_seconds</th>\n",
       "      <th>cumulative_duration</th>\n",
       "    </tr>\n",
       "  </thead>\n",
       "  <tbody>\n",
       "    <tr>\n",
       "      <th>0</th>\n",
       "      <td>clips/common_voice_en_38352658.mp3</td>\n",
       "      <td>It features a real-time encoding and decoding ...</td>\n",
       "      <td>English</td>\n",
       "      <td>common_voice_en_38352658.mp3</td>\n",
       "      <td>10656</td>\n",
       "      <td>10.656</td>\n",
       "      <td>10.656</td>\n",
       "    </tr>\n",
       "    <tr>\n",
       "      <th>1</th>\n",
       "      <td>clips/common_voice_en_38083406.mp3</td>\n",
       "      <td>He attended schools in Washington, New Hampshi...</td>\n",
       "      <td>English</td>\n",
       "      <td>common_voice_en_38083406.mp3</td>\n",
       "      <td>10548</td>\n",
       "      <td>10.548</td>\n",
       "      <td>21.204</td>\n",
       "    </tr>\n",
       "    <tr>\n",
       "      <th>2</th>\n",
       "      <td>clips/common_voice_en_38690188.mp3</td>\n",
       "      <td>These groups emphasized direct action, informa...</td>\n",
       "      <td>English</td>\n",
       "      <td>common_voice_en_38690188.mp3</td>\n",
       "      <td>10548</td>\n",
       "      <td>10.548</td>\n",
       "      <td>31.752</td>\n",
       "    </tr>\n",
       "    <tr>\n",
       "      <th>3</th>\n",
       "      <td>clips/common_voice_en_38690815.mp3</td>\n",
       "      <td>His son, the third Viscount, was Member of Par...</td>\n",
       "      <td>English</td>\n",
       "      <td>common_voice_en_38690815.mp3</td>\n",
       "      <td>10548</td>\n",
       "      <td>10.548</td>\n",
       "      <td>42.300</td>\n",
       "    </tr>\n",
       "    <tr>\n",
       "      <th>4</th>\n",
       "      <td>clips/common_voice_en_38718914.mp3</td>\n",
       "      <td>York says immanent theology distinguishes mode...</td>\n",
       "      <td>English</td>\n",
       "      <td>common_voice_en_38718914.mp3</td>\n",
       "      <td>10476</td>\n",
       "      <td>10.476</td>\n",
       "      <td>52.776</td>\n",
       "    </tr>\n",
       "  </tbody>\n",
       "</table>\n",
       "</div>"
      ],
      "text/plain": [
       "                                 path  \\\n",
       "0  clips/common_voice_en_38352658.mp3   \n",
       "1  clips/common_voice_en_38083406.mp3   \n",
       "2  clips/common_voice_en_38690188.mp3   \n",
       "3  clips/common_voice_en_38690815.mp3   \n",
       "4  clips/common_voice_en_38718914.mp3   \n",
       "\n",
       "                                            sentence language  \\\n",
       "0  It features a real-time encoding and decoding ...  English   \n",
       "1  He attended schools in Washington, New Hampshi...  English   \n",
       "2  These groups emphasized direct action, informa...  English   \n",
       "3  His son, the third Viscount, was Member of Par...  English   \n",
       "4  York says immanent theology distinguishes mode...  English   \n",
       "\n",
       "                           clip  duration[ms]  duration_seconds  \\\n",
       "0  common_voice_en_38352658.mp3         10656            10.656   \n",
       "1  common_voice_en_38083406.mp3         10548            10.548   \n",
       "2  common_voice_en_38690188.mp3         10548            10.548   \n",
       "3  common_voice_en_38690815.mp3         10548            10.548   \n",
       "4  common_voice_en_38718914.mp3         10476            10.476   \n",
       "\n",
       "   cumulative_duration  \n",
       "0               10.656  \n",
       "1               21.204  \n",
       "2               31.752  \n",
       "3               42.300  \n",
       "4               52.776  "
      ]
     },
     "execution_count": 13,
     "metadata": {},
     "output_type": "execute_result"
    }
   ],
   "source": [
    "balanced_data.head()"
   ]
  }
 ],
 "metadata": {
  "kernelspec": {
   "display_name": "base",
   "language": "python",
   "name": "python3"
  },
  "language_info": {
   "codemirror_mode": {
    "name": "ipython",
    "version": 3
   },
   "file_extension": ".py",
   "mimetype": "text/x-python",
   "name": "python",
   "nbconvert_exporter": "python",
   "pygments_lexer": "ipython3",
   "version": "3.11.5"
  }
 },
 "nbformat": 4,
 "nbformat_minor": 2
}
